{
 "cells": [
  {
   "cell_type": "code",
   "execution_count": 1,
   "metadata": {
    "collapsed": false
   },
   "outputs": [],
   "source": [
    "#Ensure we are running Python 3\n",
    "import sys\n",
    "pyinfo = sys.version_info\n",
    "assert (pyinfo.major == 3), \"Python 3 required. The version you are using is: {}\".format(pyinfo) "
   ]
  },
  {
   "cell_type": "code",
   "execution_count": 1,
   "metadata": {
    "collapsed": false
   },
   "outputs": [],
   "source": [
    "#importing some useful packages\n",
    "import matplotlib.pyplot as plt\n",
    "import matplotlib.image as mpimg\n",
    "import numpy as np\n",
    "import cv2\n",
    "import os\n",
    "%matplotlib inline"
   ]
  },
  {
   "cell_type": "markdown",
   "metadata": {},
   "source": [
    "## Test on Images\n",
    "\n",
    "Now you should build your pipeline to work on the images in the directory \"test_images\"  \n",
    "**You should make sure your pipeline works well on these images before you try the videos.**"
   ]
  },
  {
   "cell_type": "markdown",
   "metadata": {},
   "source": [
    "run your solution on all test_images and make copies into the test_images directory)."
   ]
  },
  {
   "cell_type": "code",
   "execution_count": 612,
   "metadata": {
    "collapsed": false
   },
   "outputs": [],
   "source": [
    "#Perspective warping...These values work for the test image sequences\n",
    "#Warping from the ROI to Bird Eye View. Creating a small image coz it saves time. large image probably\n",
    "#doesn't give any thing extra\n",
    "p1 = [378, 10]#for full ROI warp \n",
    "p2 = [508, 10]#for full ROI warp\n",
    "#p1 = [350, 30] #for a little lesser...cleaner, but shorter data\n",
    "#p2 = [540, 30] #for a little lesser...cleaner, but shorter data\n",
    "p3= [875, 235]\n",
    "p4= [45, 235]\n",
    "src_pts = np.array([p1, p2, p3, p4], dtype=np.float32)\n",
    "offset = 100\n",
    "dst_pts = np.array([[offset, 0], [640-offset, 0], [640-offset,240], [offset, 240]], dtype=np.float32)\n",
    "M = cv2.getPerspectiveTransform(src_pts, dst_pts)\n",
    "\n",
    "\n",
    "def warp(img, M):\n",
    "    out = cv2.warpPerspective(img, M, (640, 240), flags=cv2.INTER_LINEAR)\n",
    "    return out"
   ]
  },
  {
   "cell_type": "code",
   "execution_count": 2,
   "metadata": {
    "collapsed": false
   },
   "outputs": [],
   "source": []
  },
  {
   "cell_type": "code",
   "execution_count": 5,
   "metadata": {
    "collapsed": false
   },
   "outputs": [],
   "source": [
    "\"\"\"\n",
    "Run the processing pipeline on image\n",
    "if return_at == -1, all steps are perfomed, else, steps are performed till the required number\n",
    "\"\"\"\n",
    "from AdvancedLaneDetection.utilities import *\n",
    "import AdvancedLaneDetection.BinaryThreshold as bt\n",
    "\n",
    "R_Range = bt.Threshold(140, 250, 5)\n",
    "V_Range = bt.Threshold(140, 240, 5)\n",
    "\n",
    "def processImage(image, return_at = -1):\n",
    "    \n",
    "    Y,X,C = image.shape\n",
    "    lines = None\n",
    "    \n",
    "    #undistort image\n",
    "    #dst_img = cv2.undistort(image, mtx, dist, None, mtx)\n",
    "    \n",
    "    #extract image ROI\n",
    "    #Most parts of the image do not provide useful info\n",
    "    #roi = drawROI(image, *(200, 400), *(1080, 720)) \n",
    "    ROI_x1, ROI_y1, ROI_x2, ROI_y2 = 200, 450, 1080, 720 \n",
    "    roi = get_ROI(image, ROI_x1, ROI_y1, ROI_x2, ROI_y2)\n",
    "    #plt.imshow(roi)\n",
    "    #plt.show()\n",
    "    out_image = image\n",
    "    bin_img,sv,r = bt.binary_threshold(roi, R_Range, V_Range)\n",
    "    #plt.imshow(bin_img)\n",
    "    #plt.show()\n",
    "    #weighted_image = cv2.addWeighted(bin_img, 0.8, roi, 0.2, 0)\n",
    "    \n",
    "    out_image = cv2.cvtColor(image, cv2.COLOR_RGB2BGR)\n",
    "    out_image[ROI_y1:ROI_y2, ROI_x1:ROI_x2, :] = bin_img\n",
    "   \n",
    "    #out_image = drawPolygon(out_image)\n",
    "    \n",
    "    \n",
    "    warped_image = warpImage(bin_img, M, (640, 240))\n",
    "    out_image[0:240, -640:] = warped_image\n",
    "    return lines, out_image"
   ]
  },
  {
   "cell_type": "code",
   "execution_count": 4,
   "metadata": {
    "collapsed": false,
    "scrolled": true
   },
   "outputs": [
    {
     "name": "stdout",
     "output_type": "stream",
     "text": [
      "challenge_1.jpg\n",
      "test1.jpg\n",
      "test3.jpg\n",
      "challenge_3.jpg\n",
      "straight_lines2.jpg\n",
      "test2.jpg\n",
      "test4.jpg\n",
      "challenge_4.jpg\n",
      "challenge_5.jpg\n",
      "test6.jpg\n",
      "straight_lines1.jpg\n",
      "test5.jpg\n",
      "challenge_2.jpg\n",
      "Done\n"
     ]
    }
   ],
   "source": [
    "img_dir = \"test_images\"\n",
    "for img_name in os.listdir(img_dir):\n",
    "    #ONly look at image files:\n",
    "    if (img_name):# ==  \"test5.jpg\"):\n",
    "        if os.path.isfile(os.path.join(\"test_images\", img_name)):\n",
    "            print(img_name)\n",
    "            img_in_path = os.path.join(\"test_images\", img_name);\n",
    "\n",
    "            image = mpimg.imread(img_in_path)\n",
    "            lines, out_image = processImage(image, -1)\n",
    "            #mpimg.imsave(img_out_path, out_image)\n",
    "            img_name = os.path.splitext(os.path.basename(img_name))[0]\n",
    "            img_out_path = os.path.join(\"test_images\", \"output\", img_name);\n",
    "            cv2.imwrite(img_out_path+\".png\", out_image)\n",
    "        \n",
    "print(\"Done\")"
   ]
  },
  {
   "cell_type": "code",
   "execution_count": 27,
   "metadata": {
    "collapsed": false
   },
   "outputs": [
    {
     "ename": "NameError",
     "evalue": "name 'out_image' is not defined",
     "output_type": "error",
     "traceback": [
      "\u001b[0;31m---------------------------------------------------------------------------\u001b[0m",
      "\u001b[0;31mNameError\u001b[0m                                 Traceback (most recent call last)",
      "\u001b[0;32m<ipython-input-27-0368ec3d2b01>\u001b[0m in \u001b[0;36m<module>\u001b[0;34m()\u001b[0m\n\u001b[0;32m----> 1\u001b[0;31m \u001b[0mout_image\u001b[0m\u001b[0;34m[\u001b[0m\u001b[0;34m(\u001b[0m\u001b[0mout_image\u001b[0m\u001b[0;34m>\u001b[0m\u001b[0;36m0\u001b[0m\u001b[0;34m)\u001b[0m \u001b[0;34m&\u001b[0m \u001b[0;34m(\u001b[0m\u001b[0mout_image\u001b[0m\u001b[0;34m<\u001b[0m\u001b[0;36m255\u001b[0m\u001b[0;34m)\u001b[0m\u001b[0;34m]\u001b[0m\u001b[0;34m\u001b[0m\u001b[0m\n\u001b[0m",
      "\u001b[0;31mNameError\u001b[0m: name 'out_image' is not defined"
     ]
    }
   ],
   "source": [
    "out_image[(out_image>0) & (out_image<255)]"
   ]
  },
  {
   "cell_type": "code",
   "execution_count": 453,
   "metadata": {
    "collapsed": false,
    "scrolled": true
   },
   "outputs": [],
   "source": [
    "# Import everything needed to edit/save/watch video clips\n",
    "import imageio.plugins\n",
    "imageio.plugins.ffmpeg.download()\n",
    "import moviepy.editor as mp\n",
    "from moviepy.editor import VideoFileClip\n",
    "from IPython.display import HTML\n",
    "\n"
   ]
  },
  {
   "cell_type": "code",
   "execution_count": 454,
   "metadata": {
    "collapsed": false
   },
   "outputs": [],
   "source": [
    "def process_image(image, return_at=-1):#(return_at, image):\n",
    "    # NOTE: The output you return should be a color image (3 channel) for processing video below\n",
    "    # TODO: put your pipeline here,\n",
    "    # you should return the final output (image with lines are drawn on lanes)\n",
    "    _, result = processImage(image, return_at)\n",
    "    return result"
   ]
  },
  {
   "cell_type": "code",
   "execution_count": null,
   "metadata": {
    "collapsed": true
   },
   "outputs": [],
   "source": []
  },
  {
   "cell_type": "code",
   "execution_count": 455,
   "metadata": {
    "collapsed": false
   },
   "outputs": [
    {
     "name": "stdout",
     "output_type": "stream",
     "text": [
      "[MoviePy] >>>> Building video project_out.mp4\n",
      "[MoviePy] Writing video project_out.mp4\n"
     ]
    },
    {
     "name": "stderr",
     "output_type": "stream",
     "text": [
      "100%|█████████▉| 1260/1261 [00:53<00:00, 23.54it/s]\n"
     ]
    },
    {
     "name": "stdout",
     "output_type": "stream",
     "text": [
      "[MoviePy] Done.\n",
      "[MoviePy] >>>> Video ready: project_out.mp4 \n",
      "\n",
      "CPU times: user 5min 51s, sys: 3 s, total: 5min 54s\n",
      "Wall time: 54.1 s\n"
     ]
    }
   ],
   "source": [
    "import tqdm\n",
    "white_output = 'project_out.mp4'\n",
    "clip1 = VideoFileClip(\"project_video.mp4\")\n",
    "white_clip = clip1.fl_image(process_image) #NOTE: this function expects color images!!\n",
    "%time white_clip.write_videofile(white_output, audio=False)"
   ]
  },
  {
   "cell_type": "code",
   "execution_count": 456,
   "metadata": {
    "collapsed": false,
    "scrolled": true
   },
   "outputs": [
    {
     "name": "stdout",
     "output_type": "stream",
     "text": [
      "[MoviePy] >>>> Building video challenge_out.mp4\n",
      "[MoviePy] Writing video challenge_out.mp4\n"
     ]
    },
    {
     "name": "stderr",
     "output_type": "stream",
     "text": [
      "100%|██████████| 485/485 [00:20<00:00, 23.11it/s]\n"
     ]
    },
    {
     "name": "stdout",
     "output_type": "stream",
     "text": [
      "[MoviePy] Done.\n",
      "[MoviePy] >>>> Video ready: challenge_out.mp4 \n",
      "\n",
      "CPU times: user 2min 17s, sys: 1.25 s, total: 2min 18s\n",
      "Wall time: 21.5 s\n"
     ]
    }
   ],
   "source": [
    "yellow_output = 'challenge_out.mp4'\n",
    "clip2 = VideoFileClip('challenge_video.mp4')\n",
    "yellow_clip = clip2.fl_image(process_image)\n",
    "%time yellow_clip.write_videofile(yellow_output, audio=False)"
   ]
  },
  {
   "cell_type": "code",
   "execution_count": 457,
   "metadata": {
    "collapsed": false
   },
   "outputs": [
    {
     "name": "stdout",
     "output_type": "stream",
     "text": [
      "[MoviePy] >>>> Building video harder_out.mp4\n",
      "[MoviePy] Writing video harder_out.mp4\n"
     ]
    },
    {
     "name": "stderr",
     "output_type": "stream",
     "text": [
      "100%|█████████▉| 1199/1200 [01:02<00:00, 19.19it/s]\n"
     ]
    },
    {
     "name": "stdout",
     "output_type": "stream",
     "text": [
      "[MoviePy] Done.\n",
      "[MoviePy] >>>> Video ready: harder_out.mp4 \n",
      "\n",
      "CPU times: user 6min 46s, sys: 3.07 s, total: 6min 49s\n",
      "Wall time: 1min 3s\n"
     ]
    }
   ],
   "source": [
    "yellow_output = 'harder_out.mp4'\n",
    "clip2 = VideoFileClip('harder_challenge_video.mp4')\n",
    "yellow_clip = clip2.fl_image(process_image)\n",
    "%time yellow_clip.write_videofile(yellow_output, audio=False)"
   ]
  },
  {
   "cell_type": "code",
   "execution_count": null,
   "metadata": {
    "collapsed": true
   },
   "outputs": [],
   "source": []
  },
  {
   "cell_type": "code",
   "execution_count": null,
   "metadata": {
    "collapsed": true
   },
   "outputs": [],
   "source": []
  }
 ],
 "metadata": {
  "anaconda-cloud": {},
  "kernelspec": {
   "display_name": "Python [conda root]",
   "language": "python",
   "name": "conda-root-py"
  },
  "language_info": {
   "codemirror_mode": {
    "name": "ipython",
    "version": 3
   },
   "file_extension": ".py",
   "mimetype": "text/x-python",
   "name": "python",
   "nbconvert_exporter": "python",
   "pygments_lexer": "ipython3",
   "version": "3.5.2"
  }
 },
 "nbformat": 4,
 "nbformat_minor": 0
}
