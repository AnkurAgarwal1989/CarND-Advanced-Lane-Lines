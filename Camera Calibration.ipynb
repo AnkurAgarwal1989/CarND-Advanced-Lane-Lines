{
 "cells": [
  {
   "cell_type": "markdown",
   "metadata": {},
   "source": [
    "### Camera Calibration"
   ]
  },
  {
   "cell_type": "code",
   "execution_count": 135,
   "metadata": {
    "collapsed": false
   },
   "outputs": [
    {
     "name": "stdout",
     "output_type": "stream",
     "text": [
      "Using Calibration files from Directory:\n",
      "  /home/ankur/UdacityND/CarND-Advanced-Lane-Lines/camera_cal\n",
      "Found 20 calibration images.\n"
     ]
    }
   ],
   "source": [
    "import numpy as np\n",
    "import os\n",
    "import sys\n",
    "import cv2\n",
    "import matplotlib.pyplot as plt\n",
    "import glob\n",
    "import pickle\n",
    "%matplotlib inline\n",
    "\n",
    "camera_calibration_dir = os.path.join(os.getcwd(),\"camera_cal\")\n",
    "print(\"Using Calibration files from Directory:\\n \", camera_calibration_dir)\n",
    "\n",
    "cal_images = glob.glob(os.path.join(camera_calibration_dir, \"calibration*.jpg\"))\n",
    "print(\"Found {} calibration images.\".format(len(cal_images)))\n"
   ]
  },
  {
   "cell_type": "code",
   "execution_count": 115,
   "metadata": {
    "collapsed": true
   },
   "outputs": [],
   "source": [
    "def create_3D_obj_points(nx, ny):\n",
    "    obj = np.zeros((nx*ny,3), np.float32)\n",
    "    obj[:, 0:2] = np.mgrid[0:nx, 0:ny].T.reshape(-1,2)\n",
    "    return obj"
   ]
  },
  {
   "cell_type": "code",
   "execution_count": null,
   "metadata": {
    "collapsed": true
   },
   "outputs": [],
   "source": [
    "def save_calibration(mtx, dist, pickle_name):#Save the camera calibration result for later use (we won't worry about rvecs / tvecs)\n",
    "    calibration = {}\n",
    "    calibration[\"mtx\"] = mtx\n",
    "    calibration[\"dist\"] = dist\n",
    "    pickle.dump( calibration, open(pickle_name, \"wb\")) "
   ]
  },
  {
   "cell_type": "code",
   "execution_count": 116,
   "metadata": {
    "collapsed": false
   },
   "outputs": [],
   "source": [
    "def get_image_corners(image_list, nx = 9, ny = 6, num_images = 20, debug=False):\n",
    "    image_pts = []\n",
    "    obj_pts = []\n",
    "    for fname in cal_images[0:num_images]:\n",
    "        debug_string = ''\n",
    "        debug_string += \"Image: \" + fname + \"\\n\"\n",
    "        img = cv2.imread(fname)\n",
    "\n",
    "        # Convert to grayscale\n",
    "        gray = cv2.cvtColor(img, cv2.COLOR_BGR2GRAY)\n",
    "        #plt.imshow(gray, cmap='gray')\n",
    "        \n",
    "        # Find the chessboard corners\n",
    "        ret, img_corners = cv2.findChessboardCorners(gray, (nx, ny), None)\n",
    "    \n",
    "        # If found, draw corners\n",
    "        if ret:\n",
    "            # Draw and display the corners\n",
    "            #cv2.drawChessboardCorners(img, (nx, ny), corners, ret)\n",
    "            debug_string += (\"# of corners found: {}\\n\".format(len(corners)))\n",
    "            image_pts.append(img_corners)\n",
    "            obj_pts.append(create_3D_obj_points(nx, ny))\n",
    "            #plt.imshow(img)\n",
    "        else:\n",
    "            debug_string += (\"No corners found\\n\")\n",
    "            \n",
    "        if debug:\n",
    "            print(debug_string)\n",
    "    return image_pts, obj_pts\n",
    "        \n"
   ]
  },
  {
   "cell_type": "code",
   "execution_count": 117,
   "metadata": {
    "collapsed": false
   },
   "outputs": [],
   "source": [
    "#setup calibration details\n",
    "nx,ny = 9,6\n",
    "img = cv2.imread(cal_images[0])\n",
    "img_size = (img.shape[1], img.shape[0])\n",
    "\n",
    "#Get list of image points and correspondin 3D points\n",
    "image_points, obj_points = get_image_corners(cal_images, nx, ny)\n",
    "\n",
    "# Do camera calibration given object points and image points\n",
    "ret, mtx, dist, rvecs, tvecs = cv2.calibrateCamera(obj_points, image_points, img_size,None,None)\n",
    "\n",
    "#Save calibration file as a pickle\n",
    "calib_file_name = os.path.join(camera_calibration_dir,\"calibration_pickle.p\")\n",
    "save_calibration(mtx, dist, calib_file_name)"
   ]
  },
  {
   "cell_type": "code",
   "execution_count": 130,
   "metadata": {
    "collapsed": false
   },
   "outputs": [],
   "source": [
    "# Test undistortion on images...save them to a folder for easy viewing\n",
    "calibration_output_dir = os.path.join(camera_calibration_dir, \"calib_output\")\n",
    "\n",
    "if not os.path.isdir(calibration_output_dir):\n",
    "    os.mkdir(calibration_output_dir)\n",
    "    \n",
    "for fname in cal_images:\n",
    "    img = cv2.imread(fname)\n",
    "    img_size = (img.shape[1], img.shape[0])\n",
    "    name = os.path.basename(fname)\n",
    "    output_name = os.path.join(calibration_output_dir,name)\n",
    "    dst_img = cv2.undistort(img, mtx, dist, None, mtx)\n",
    "    vis_out = np.concatenate((img, dst_img), axis=1)\n",
    "    ret = cv2.imwrite(output_name,vis_out)"
   ]
  },
  {
   "cell_type": "code",
   "execution_count": 142,
   "metadata": {
    "collapsed": false
   },
   "outputs": [
    {
     "name": "stdout",
     "output_type": "stream",
     "text": [
      "{'dist': array([[ -2.41017956e-01,  -5.30721173e-02,  -1.15810355e-03,\n",
      "         -1.28318856e-04,   2.67125290e-02]]), 'mtx': array([[  1.15396093e+03,   0.00000000e+00,   6.69705357e+02],\n",
      "       [  0.00000000e+00,   1.14802496e+03,   3.85656234e+02],\n",
      "       [  0.00000000e+00,   0.00000000e+00,   1.00000000e+00]])}\n"
     ]
    }
   ],
   "source": [
    "def get_calibration(calib_name):\n",
    "    calibration = pickle.load(open(calib_name, \"rb\"))\n",
    "    print(calibration)\n",
    "    \n",
    "calib_name = os.path.join(camera_calibration_dir,\"calibration_pickle.p\")\n",
    "get_calibration(calib_name)"
   ]
  },
  {
   "cell_type": "code",
   "execution_count": 145,
   "metadata": {
    "collapsed": false
   },
   "outputs": [],
   "source": [
    "test_dir = \"/home/ankur/UdacityND/CarND-Advanced-Lane-Lines/test_images/\"\n",
    "for fname in glob.glob(os.path.join(test_dir, \"*.jpg\")):\n",
    "    img = cv2.imread(fname)\n",
    "    img_size = (img.shape[1], img.shape[0])\n",
    "    name = \"put\" + os.path.basename(fname)\n",
    "    print(name)\n",
    "    output_name = os.path.join(test_dir,name)\n",
    "    dst_img = cv2.undistort(img, mtx, dist, None, mtx)\n",
    "    vis_out = np.concatenate((img, dst_img), axis=1)\n",
    "    ret = cv2.imwrite(output_name,vis_out)"
   ]
  },
  {
   "cell_type": "code",
   "execution_count": null,
   "metadata": {
    "collapsed": true
   },
   "outputs": [],
   "source": []
  }
 ],
 "metadata": {
  "anaconda-cloud": {},
  "kernelspec": {
   "display_name": "Python [conda env:tensorflow]",
   "language": "python",
   "name": "conda-env-tensorflow-py"
  },
  "language_info": {
   "codemirror_mode": {
    "name": "ipython",
    "version": 3
   },
   "file_extension": ".py",
   "mimetype": "text/x-python",
   "name": "python",
   "nbconvert_exporter": "python",
   "pygments_lexer": "ipython3",
   "version": "3.5.2"
  }
 },
 "nbformat": 4,
 "nbformat_minor": 2
}
