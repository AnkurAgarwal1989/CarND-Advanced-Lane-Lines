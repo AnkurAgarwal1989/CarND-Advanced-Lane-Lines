{
 "cells": [
  {
   "cell_type": "code",
   "execution_count": 2,
   "metadata": {
    "collapsed": false
   },
   "outputs": [],
   "source": [
    "#Ensure we are running Python 3\n",
    "import sys\n",
    "pyinfo = sys.version_info\n",
    "assert (pyinfo.major == 3), \"Python 3 required. The version you are using is: {}\".format(pyinfo) "
   ]
  },
  {
   "cell_type": "code",
   "execution_count": 3,
   "metadata": {
    "collapsed": false
   },
   "outputs": [],
   "source": [
    "#importing some useful packages\n",
    "import matplotlib.pyplot as plt\n",
    "import matplotlib.image as mpimg\n",
    "import numpy as np\n",
    "import cv2\n",
    "import os\n",
    "%matplotlib inline"
   ]
  },
  {
   "cell_type": "code",
   "execution_count": 429,
   "metadata": {
    "collapsed": false
   },
   "outputs": [],
   "source": [
    "import math\n",
    "\n",
    "def grayscale(img):\n",
    "    \"\"\"Applies the Grayscale transform\n",
    "    This will return an image with only one color channel\n",
    "    but NOTE: to see the returned image as grayscale\n",
    "    you should call plt.imshow(gray, cmap='gray')\"\"\"\n",
    "    #return cv2.cvtColor(img, cv2.COLOR_RGB2GRAY)\n",
    "    # Or use BGR2GRAY if you read an image with cv2.imread()\n",
    "    return cv2.cvtColor(img, cv2.COLOR_BGR2GRAY)\n",
    "\n",
    "def colorspace(img, c_space):\n",
    "    return cv2.cvtColor(img, c_space)\n",
    "\n",
    "def get_channel(img, c):\n",
    "    return img[:, :, c]\n",
    "\n",
    "def canny(img, low_threshold, high_threshold):\n",
    "    \"\"\"Applies the Canny transform\"\"\"\n",
    "    return cv2.Canny(img, low_threshold, high_threshold)\n",
    "\n",
    "def gaussian_blur(img, kernel_size):\n",
    "    \"\"\"Applies a Gaussian Noise kernel\"\"\"\n",
    "    return cv2.GaussianBlur(img, (kernel_size, kernel_size), 0)\n",
    "\n",
    "def region_of_interest(img, vertices):\n",
    "    \"\"\"\n",
    "    Applies an image mask.\n",
    "    \n",
    "    Only keeps the region of the image defined by the polygon\n",
    "    formed from `vertices`. The rest of the image is set to black.\n",
    "    \"\"\"\n",
    "    #defining a blank mask to start with\n",
    "    mask = np.zeros_like(img)   \n",
    "    \n",
    "    #defining a 3 channel or 1 channel color to fill the mask with depending on the input image\n",
    "    if len(img.shape) > 2:\n",
    "        channel_count = img.shape[2]  # i.e. 3 or 4 depending on your image\n",
    "        ignore_mask_color = (255,) * channel_count\n",
    "    else:\n",
    "        ignore_mask_color = 255\n",
    "        \n",
    "    #filling pixels inside the polygon defined by \"vertices\" with the fill color    \n",
    "    cv2.fillPoly(mask, vertices, ignore_mask_color)\n",
    "    \n",
    "    #returning the image only where mask pixels are nonzero\n",
    "    masked_image = cv2.bitwise_and(img, mask)\n",
    "    return masked_image\n",
    "\n",
    "def drawROI(img, x1, y1, x2, y2):\n",
    "    out = cv2.rectangle(img, (x1, y1), (x2, y2), (255, 0, 0))\n",
    "    return out\n",
    "\n",
    "def drawPolygon(img):\n",
    "    pts = np.array([[540,450],[740,450],[1180,720],[100,720]], np.int32)\n",
    "    pts = pts.reshape((-1,1,2))\n",
    "    out = cv2.polylines(img,[pts],True,(0,255,255))\n",
    "    return out"
   ]
  },
  {
   "cell_type": "markdown",
   "metadata": {},
   "source": [
    "## Test on Images\n",
    "\n",
    "Now you should build your pipeline to work on the images in the directory \"test_images\"  \n",
    "**You should make sure your pipeline works well on these images before you try the videos.**"
   ]
  },
  {
   "cell_type": "markdown",
   "metadata": {},
   "source": [
    "run your solution on all test_images and make copies into the test_images directory)."
   ]
  },
  {
   "cell_type": "code",
   "execution_count": 430,
   "metadata": {
    "collapsed": false,
    "scrolled": false
   },
   "outputs": [],
   "source": [
    "#Adaptive Binary Threshold.\n",
    "#We use R and G channels from RGB, V from HSV and S from HLS.\n",
    "#We iteratively find threshold parameters that give enough pixels but not too many\n",
    "\n",
    "def get_ROI(img, x1, y1, x2, y2):\n",
    "    return img[y1:y2, x1:x2, :]\n",
    "\n",
    "#Binary Thresholding on on ROI image. \n",
    "# input ROI image is 3 channel\n",
    "# returns a 3channel Binary image (0 and 255)\n",
    "def binary_threshold(roi, init_thresh = 200, minRG = 85, thresh_dt = 5, bailout = 20):\n",
    "    \n",
    "    thresh_img = np.zeros_like(roi[:, :, 0])\n",
    "    total_pixels = thresh_img.shape[0]*thresh_img.shape[1]\n",
    "    thresh = init_thresh\n",
    "    \n",
    "    #Using R and G channels to mask out dark or grey road/ shadow values\n",
    "    (B,G,R) = cv2.split(roi)\n",
    "    \n",
    "    R_dx = np.absolute(cv2.Sobel(R, cv2.CV_64F, 1, 0))\n",
    "    R_dx *= 255/np.max(R_dx)\n",
    "    \n",
    "    hls = colorspace(roi, cv2.COLOR_BGR2HLS)\n",
    "    S = get_channel(hls, 2)\n",
    "    \n",
    "    hsv = colorspace(roi, cv2.COLOR_BGR2HSV)\n",
    "    V = get_channel(hsv, 2)\n",
    "    \n",
    "    #Create an initial binary image. We will refine this if we don't have enough pixels or too many pixels\n",
    "    thresh_img[(V > thresh) | ((R > thresh) & (G > thresh)) | (S > thresh) ] = 255\n",
    "    thresh_img[(R < minRG) & (G < minRG)] = 0\n",
    "    \n",
    "    #Count of Non-Zero mask pixels\n",
    "    nzcount = np.count_nonzero(thresh_img)\n",
    "    \n",
    "    #Bailout Counter. If we can not reach a good value in n steps, stop wasting time and move on.\n",
    "    counter = 0\n",
    "    #We want the number of lane pixels to be within 1% to 3% of the total pixels in image\n",
    "    while (nzcount < 0.01*total_pixels) | (nzcount > 0.03*total_pixels) & (thresh > 100) & (thresh < 231):\n",
    "        counter += 1\n",
    "        if (counter == bailout):\n",
    "            print(\"Unable to find a good value in 10 steps. Bailing out!\")\n",
    "            thresh_img = np.zeros_like(thresh_img)\n",
    "            break\n",
    "        if (nzcount < 0.02*total_pixels):\n",
    "            thresh -= thresh_dt\n",
    "        else:\n",
    "            thresh += thresh_dt\n",
    "        thresh_img = np.zeros_like(thresh_img)\n",
    "        thresh_img[(V > thresh) | ((R > thresh) & (G > thresh)) | (S > thresh) ] = 255\n",
    "        thresh_img[(R < minRG) & (G < minRG)] = 0\n",
    "        nzcount = np.count_nonzero(thresh_img)\n",
    "        \n",
    "    bin_img = np.dstack((thresh_img, thresh_img, thresh_img))\n",
    "    return bin_img\n",
    "\n",
    "#read saved calibration and distortion\n",
    "\n"
   ]
  },
  {
   "cell_type": "code",
   "execution_count": 461,
   "metadata": {
    "collapsed": true
   },
   "outputs": [],
   "source": [
    "def warp(img, src_pts, dst_pts):\n",
    "    M = cv2.getPerspectiveTransform(src_pts, dst_pts)\n",
    "    out = cv2.warpPerspective(img, M, (640, 480))\n",
    "    return out"
   ]
  },
  {
   "cell_type": "code",
   "execution_count": 462,
   "metadata": {
    "collapsed": true
   },
   "outputs": [],
   "source": [
    "\"\"\"\n",
    "Run the processing pipeline on image\n",
    "if return_at == -1, all steps are perfomed, else, steps are performed till the required number\n",
    "\"\"\"\n",
    "def processImage(image, return_at = -1):\n",
    "    \n",
    "    Y,X,C = image.shape\n",
    "    lines = None\n",
    "    \n",
    "    #undistort image\n",
    "    #dst_img = cv2.undistort(image, mtx, dist, None, mtx)\n",
    "    \n",
    "    #extract image ROI\n",
    "    #Most parts of the image do not provide useful info\n",
    "    #roi = drawROI(image, *(200, 400), *(1080, 720)) \n",
    "    ROI_x1, ROI_y1, ROI_x2, ROI_y2 = 200, 450, 1080, 720 \n",
    "    roi = get_ROI(image, ROI_x1, ROI_y1, ROI_x2, ROI_y2)\n",
    "    \n",
    "    out_image = image\n",
    "    bin_img = binary_threshold(roi)\n",
    "    \n",
    "    #weighted_image = cv2.addWeighted(bin_img, 0.8, roi, 0.2, 0)\n",
    "    \n",
    "    out_image = np.zeros_like(image)\n",
    "    out_image[ROI_y1:ROI_y2, ROI_x1:ROI_x2, :] = bin_img\n",
    "   \n",
    "    #out_image = drawPolygon(out_image)\n",
    "    \n",
    "    src =  np.array([[585,450],[695,450],[1180,720],[100,720]], dtype=np.float32)\n",
    "    offset = 20\n",
    "    dst = np.array([[offset, offset], [640-offset, offset], [640-offset,480-offset], [offset, 480-offset]], dtype=np.float32)\n",
    "    out_image = warp(out_image, src, dst)\n",
    "    return lines, out_image"
   ]
  },
  {
   "cell_type": "code",
   "execution_count": 463,
   "metadata": {
    "collapsed": false,
    "scrolled": true
   },
   "outputs": [
    {
     "name": "stdout",
     "output_type": "stream",
     "text": [
      "straight_lines1.jpg\n",
      "challenge_4.jpg\n",
      "test6.jpg\n",
      "test2.jpg\n",
      "test4.jpg\n",
      "straight_lines2.jpg\n",
      "test3.jpg\n",
      "challenge_2.jpg\n",
      "test5.jpg\n",
      "challenge_1.jpg\n",
      "test1.jpg\n",
      "challenge_5.jpg\n",
      "challenge_3.jpg\n",
      "Done\n"
     ]
    }
   ],
   "source": [
    "img_dir = \"test_images\"\n",
    "for img_name in os.listdir(img_dir):\n",
    "    #ONly look at image files:\n",
    "    if os.path.isfile(os.path.join(\"test_images\", img_name)):\n",
    "        print(img_name)\n",
    "        img_in_path = os.path.join(\"test_images\", img_name);\n",
    "        img_out_path = os.path.join(\"test_images\", \"output\", img_name);\n",
    "        image = mpimg.imread(img_in_path)\n",
    "        lines, out_image = processImage(image, -1)\n",
    "        mpimg.imsave(img_out_path, out_image)\n",
    "        \n",
    "print(\"Done\")"
   ]
  },
  {
   "cell_type": "code",
   "execution_count": 464,
   "metadata": {
    "collapsed": false,
    "scrolled": true
   },
   "outputs": [],
   "source": [
    "# Import everything needed to edit/save/watch video clips\n",
    "import imageio.plugins\n",
    "imageio.plugins.ffmpeg.download()\n",
    "import moviepy.editor as mp\n",
    "from moviepy.editor import VideoFileClip\n",
    "from IPython.display import HTML\n",
    "\n"
   ]
  },
  {
   "cell_type": "code",
   "execution_count": 465,
   "metadata": {
    "collapsed": false
   },
   "outputs": [],
   "source": [
    "def process_image(image, return_at=-1):#(return_at, image):\n",
    "    # NOTE: The output you return should be a color image (3 channel) for processing video below\n",
    "    # TODO: put your pipeline here,\n",
    "    # you should return the final output (image with lines are drawn on lanes)\n",
    "    _, result = processImage(image, return_at)\n",
    "    return result"
   ]
  },
  {
   "cell_type": "code",
   "execution_count": null,
   "metadata": {
    "collapsed": true
   },
   "outputs": [],
   "source": []
  },
  {
   "cell_type": "code",
   "execution_count": 466,
   "metadata": {
    "collapsed": false
   },
   "outputs": [
    {
     "name": "stdout",
     "output_type": "stream",
     "text": [
      "[MoviePy] >>>> Building video project_out.mp4\n",
      "[MoviePy] Writing video project_out.mp4\n"
     ]
    },
    {
     "name": "stderr",
     "output_type": "stream",
     "text": [
      "100%|█████████▉| 1260/1261 [00:39<00:00, 31.85it/s]\n"
     ]
    },
    {
     "name": "stdout",
     "output_type": "stream",
     "text": [
      "[MoviePy] Done.\n",
      "[MoviePy] >>>> Video ready: project_out.mp4 \n",
      "\n",
      "CPU times: user 1min 48s, sys: 3.26 s, total: 1min 51s\n",
      "Wall time: 39.8 s\n"
     ]
    }
   ],
   "source": [
    "import tqdm\n",
    "white_output = 'project_out.mp4'\n",
    "clip1 = VideoFileClip(\"project_video.mp4\")\n",
    "white_clip = clip1.fl_image(process_image) #NOTE: this function expects color images!!\n",
    "%time white_clip.write_videofile(white_output, audio=False)"
   ]
  },
  {
   "cell_type": "code",
   "execution_count": 467,
   "metadata": {
    "collapsed": false,
    "scrolled": true
   },
   "outputs": [
    {
     "name": "stdout",
     "output_type": "stream",
     "text": [
      "[MoviePy] >>>> Building video challenge_out.mp4\n",
      "[MoviePy] Writing video challenge_out.mp4\n"
     ]
    },
    {
     "name": "stderr",
     "output_type": "stream",
     "text": [
      "100%|██████████| 485/485 [00:20<00:00, 23.45it/s]\n"
     ]
    },
    {
     "name": "stdout",
     "output_type": "stream",
     "text": [
      "[MoviePy] Done.\n",
      "[MoviePy] >>>> Video ready: challenge_out.mp4 \n",
      "\n",
      "CPU times: user 1min 3s, sys: 1.65 s, total: 1min 5s\n",
      "Wall time: 20.9 s\n"
     ]
    }
   ],
   "source": [
    "yellow_output = 'challenge_out.mp4'\n",
    "clip2 = VideoFileClip('challenge_video.mp4')\n",
    "yellow_clip = clip2.fl_image(process_image)\n",
    "%time yellow_clip.write_videofile(yellow_output, audio=False)"
   ]
  },
  {
   "cell_type": "code",
   "execution_count": 468,
   "metadata": {
    "collapsed": false
   },
   "outputs": [
    {
     "name": "stdout",
     "output_type": "stream",
     "text": [
      "[MoviePy] >>>> Building video harder_out.mp4\n",
      "[MoviePy] Writing video harder_out.mp4\n"
     ]
    },
    {
     "name": "stderr",
     "output_type": "stream",
     "text": [
      "100%|█████████▉| 1199/1200 [01:05<00:00, 16.07it/s]\n"
     ]
    },
    {
     "name": "stdout",
     "output_type": "stream",
     "text": [
      "[MoviePy] Done.\n",
      "[MoviePy] >>>> Video ready: harder_out.mp4 \n",
      "\n",
      "CPU times: user 3min 18s, sys: 5.16 s, total: 3min 24s\n",
      "Wall time: 1min 5s\n"
     ]
    }
   ],
   "source": [
    "yellow_output = 'harder_out.mp4'\n",
    "clip2 = VideoFileClip('harder_challenge_video.mp4')\n",
    "yellow_clip = clip2.fl_image(process_image)\n",
    "%time yellow_clip.write_videofile(yellow_output, audio=False)"
   ]
  },
  {
   "cell_type": "code",
   "execution_count": null,
   "metadata": {
    "collapsed": true
   },
   "outputs": [],
   "source": []
  },
  {
   "cell_type": "code",
   "execution_count": null,
   "metadata": {
    "collapsed": true
   },
   "outputs": [],
   "source": []
  }
 ],
 "metadata": {
  "anaconda-cloud": {},
  "kernelspec": {
   "display_name": "Python [conda env:tensorflow]",
   "language": "python",
   "name": "conda-env-tensorflow-py"
  },
  "language_info": {
   "codemirror_mode": {
    "name": "ipython",
    "version": 3
   },
   "file_extension": ".py",
   "mimetype": "text/x-python",
   "name": "python",
   "nbconvert_exporter": "python",
   "pygments_lexer": "ipython3",
   "version": "3.5.2"
  }
 },
 "nbformat": 4,
 "nbformat_minor": 0
}
