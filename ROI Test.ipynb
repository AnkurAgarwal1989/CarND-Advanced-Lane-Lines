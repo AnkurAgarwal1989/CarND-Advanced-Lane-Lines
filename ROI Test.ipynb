{
 "cells": [
  {
   "cell_type": "code",
   "execution_count": 1,
   "metadata": {
    "collapsed": false
   },
   "outputs": [],
   "source": [
    "#Ensure we are running Python 3\n",
    "import sys\n",
    "pyinfo = sys.version_info\n",
    "assert (pyinfo.major == 3), \"Python 3 required. The version you are using is: {}\".format(pyinfo) "
   ]
  },
  {
   "cell_type": "code",
   "execution_count": 2,
   "metadata": {
    "collapsed": false
   },
   "outputs": [],
   "source": [
    "#importing some useful packages\n",
    "import matplotlib.pyplot as plt\n",
    "import matplotlib.image as mpimg\n",
    "import numpy as np\n",
    "import cv2\n",
    "import os\n",
    "%matplotlib inline"
   ]
  },
  {
   "cell_type": "code",
   "execution_count": 515,
   "metadata": {
    "collapsed": false
   },
   "outputs": [],
   "source": [
    "import math\n",
    "\n",
    "def grayscale(img):\n",
    "    \"\"\"Applies the Grayscale transform\n",
    "    This will return an image with only one color channel\n",
    "    but NOTE: to see the returned image as grayscale\n",
    "    you should call plt.imshow(gray, cmap='gray')\"\"\"\n",
    "    #return cv2.cvtColor(img, cv2.COLOR_RGB2GRAY)\n",
    "    # Or use BGR2GRAY if you read an image with cv2.imread()\n",
    "    return cv2.cvtColor(img, cv2.COLOR_BGR2GRAY)\n",
    "\n",
    "def colorspace(img, c_space):\n",
    "    return cv2.cvtColor(img, c_space)\n",
    "\n",
    "def get_channel(img, c):\n",
    "    return img[:, :, c]\n",
    "\n",
    "def canny(img, low_threshold, high_threshold):\n",
    "    \"\"\"Applies the Canny transform\"\"\"\n",
    "    return cv2.Canny(img, low_threshold, high_threshold)\n",
    "\n",
    "def gaussian_blur(img, kernel_size):\n",
    "    \"\"\"Applies a Gaussian Noise kernel\"\"\"\n",
    "    return cv2.GaussianBlur(img, (kernel_size, kernel_size), 0)\n",
    "\n",
    "def region_of_interest(img, vertices):\n",
    "    \"\"\"\n",
    "    Applies an image mask.\n",
    "    \n",
    "    Only keeps the region of the image defined by the polygon\n",
    "    formed from `vertices`. The rest of the image is set to black.\n",
    "    \"\"\"\n",
    "    #defining a blank mask to start with\n",
    "    mask = np.zeros_like(img)   \n",
    "    \n",
    "    #defining a 3 channel or 1 channel color to fill the mask with depending on the input image\n",
    "    if len(img.shape) > 2:\n",
    "        channel_count = img.shape[2]  # i.e. 3 or 4 depending on your image\n",
    "        ignore_mask_color = (255,) * channel_count\n",
    "    else:\n",
    "        ignore_mask_color = 255\n",
    "        \n",
    "    #filling pixels inside the polygon defined by \"vertices\" with the fill color    \n",
    "    cv2.fillPoly(mask, vertices, ignore_mask_color)\n",
    "    \n",
    "    #returning the image only where mask pixels are nonzero\n",
    "    masked_image = cv2.bitwise_and(img, mask)\n",
    "    return masked_image\n",
    "\n",
    "def drawROI(img, x1, y1, x2, y2):\n",
    "    out = cv2.rectangle(img, (x1, y1), (x2, y2), (255, 0, 0))\n",
    "    return out\n",
    "\n",
    "def drawPolygon(img):\n",
    "    pts = np.array([[200,450],[740,450],[1080,720],[200,720]], np.int32)\n",
    "    '''p1 = [0.45*1280, 0.6*720]\n",
    "    p2 = [0.55*1280, 0.6*720]\n",
    "    p3= [0.90*1280, 0.96*720]\n",
    "    p4= [0.10*1280, 0.96*720]'''\n",
    "    pts = np.array([p1, p2, p3, p4], dtype=np.int32)\n",
    "    pts = pts.reshape((-1,1,2))\n",
    "    out = cv2.polylines(img,[pts],True,(0,255,255))\n",
    "    return out"
   ]
  },
  {
   "cell_type": "markdown",
   "metadata": {},
   "source": [
    "## Test on Images\n",
    "\n",
    "Now you should build your pipeline to work on the images in the directory \"test_images\"  \n",
    "**You should make sure your pipeline works well on these images before you try the videos.**"
   ]
  },
  {
   "cell_type": "markdown",
   "metadata": {},
   "source": [
    "run your solution on all test_images and make copies into the test_images directory)."
   ]
  },
  {
   "cell_type": "code",
   "execution_count": 487,
   "metadata": {
    "collapsed": false,
    "scrolled": false
   },
   "outputs": [],
   "source": [
    "#Adaptive Binary Threshold.\n",
    "#We use R and G channels from RGB, V from HSV and S from HLS.\n",
    "#We iteratively find threshold parameters that give enough pixels but not too many\n",
    "\n",
    "def get_ROI(img, x1, y1, x2, y2):\n",
    "    return img[y1:y2, x1:x2, :]\n",
    "\n",
    "#Binary Thresholding on on ROI image. \n",
    "# input ROI image is 3 channel\n",
    "# returns a 3channel Binary image (0 and 255)\n",
    "def binary_threshold(roi, initSV = 140, initR = 140, thresh_dt = 5, bailout = 20):\n",
    "    \n",
    "    minSV = 140\n",
    "    maxSV = 240\n",
    "    minR = 140\n",
    "    maxR = 250 \n",
    "    \n",
    "    SVThresh = initSV\n",
    "    RThresh = initR\n",
    "    \n",
    "    thresh_img = np.zeros_like(roi[:, :, 0])\n",
    "    \n",
    "    total_pixels = thresh_img.shape[0]*thresh_img.shape[1]\n",
    "    #thresh = init_thresh\n",
    "    \n",
    "    #Using R and G channels to mask out dark or grey road/ shadow values\n",
    "    (B,G,R) = cv2.split(roi)\n",
    "    \n",
    "    R_dx = np.absolute(cv2.Sobel(R, cv2.CV_64F, 1, 0))\n",
    "    R_dx *= 255/np.max(R_dx)\n",
    "    \n",
    "    hls = colorspace(roi, cv2.COLOR_BGR2HLS)\n",
    "    S = get_channel(hls, 2)\n",
    "    \n",
    "    hsv = colorspace(roi, cv2.COLOR_BGR2HSV)\n",
    "    V = get_channel(hsv, 2)\n",
    "    \n",
    "    #Create an initial binary image. We will refine this if we don't have enough pixels or too many pixels\n",
    "    thresh_img[(V >= SVThresh) | (R >= RThresh)] = 255# | (S >= SVThresh) ] = 255\n",
    "    #thresh_img[(R < minRG) & (G < minRG)] = 0\n",
    "    \n",
    "    #Count of Non-Zero mask pixels\n",
    "    nzcount = np.count_nonzero(thresh_img)\n",
    "    \n",
    "    \n",
    "    #Bailout Counter. If we can not reach a good value in n steps, stop wasting time and move on.\n",
    "    counter = 0\n",
    "    \n",
    "    \n",
    "    b = np.zeros_like(thresh_img)\n",
    "    g = np.zeros_like(thresh_img)\n",
    "    r = np.zeros_like(thresh_img)\n",
    "    \n",
    "    wiggleScope = True\n",
    "    #We want the number of lane pixels to be within 1% to 3% of the total pixels in image\n",
    "    minarea =0.015\n",
    "    maxarea =0.02\n",
    "    while ((nzcount < minarea*total_pixels) | (nzcount >= maxarea*total_pixels)) & (wiggleScope):\n",
    "        counter += 1\n",
    "        if (counter == bailout):\n",
    "            #print(\"Unable to find a good value in {} steps. Bailing out!\".format(bailout))\n",
    "            nzcount = np.count_nonzero(thresh_img)\n",
    "            thresh_img = np.zeros_like(thresh_img)\n",
    "            SVThresh = initSV\n",
    "            RThresh = initR\n",
    "            break\n",
    "            \n",
    "        #If there is still scope in moving ranges\n",
    "        VwiggleScope = (SVThresh >= minSV) & (SVThresh <= maxSV)\n",
    "        RwiggleScope = (RThresh >= minR) & (RThresh <= maxR)\n",
    "        wiggleScope = VwiggleScope | RwiggleScope\n",
    "        \n",
    "        if wiggleScope:\n",
    "            if (nzcount < minarea*total_pixels):\n",
    "                if VwiggleScope:\n",
    "                    SVThresh -= thresh_dt\n",
    "                if RwiggleScope:\n",
    "                    RThresh -= thresh_dt\n",
    "            else:\n",
    "                if VwiggleScope:\n",
    "                    SVThresh += thresh_dt\n",
    "                if RwiggleScope:\n",
    "                    RThresh += thresh_dt\n",
    "                    \n",
    "            thresh_img = np.zeros_like(thresh_img)\n",
    "            thresh_img[(V >= SVThresh) | (R >= RThresh)] = 255# | (S >= SVThresh) ] = 255\n",
    "            #thresh_img[(V > thresh) | ((R > thresh) & (G > thresh)) | (S > thresh) ] = 255\n",
    "            #thresh_img[(R < minRG) & (G < minRG)] = 0\n",
    "            nzcount = np.count_nonzero(thresh_img)\n",
    "            \n",
    "        else:\n",
    "            #print(\"Unable to find a good value in range. Bailing out!\")\n",
    "            nzcount = np.count_nonzero(thresh_img)\n",
    "            thresh_img = np.zeros_like(thresh_img)\n",
    "            SVThresh = initSV\n",
    "            RThresh = initR\n",
    "            break\n",
    "    \n",
    "    \n",
    "    print(\"%cnt\", nzcount/total_pixels)\n",
    "    print(\"steps\", counter)    \n",
    "    print(nzcount, total_pixels)\n",
    "        \n",
    "    #b[(V >= SVThresh)] = 255\n",
    "    #r[(R >= RThresh)] = 255\n",
    "    #g[(S >= SVThresh)] = 255\n",
    "    #print(r.shape, thresh_img.shape)\n",
    "    #print(SVThresh, RThresh)\n",
    "    bin_img = np.dstack((thresh_img, thresh_img, thresh_img))\n",
    "    #bin_img = np.dstack((r,g,b))\n",
    "    return bin_img, SVThresh, RThresh\n",
    "\n",
    "#read saved calibration and distortion\n",
    "\n"
   ]
  },
  {
   "cell_type": "code",
   "execution_count": 565,
   "metadata": {
    "collapsed": false
   },
   "outputs": [],
   "source": [
    "#Perspective warping...These values work for the test image sequences\n",
    "#Warping from the ROI to Bird Eye View. Creating a small image coz it saves time. large image probably\n",
    "#doesn't give any thing extra\n",
    "p1 = [380, 10]#for full ROI warp \n",
    "p2 = [510, 10]#for full ROI warp\n",
    "#p1 = [350, 30] #for a little lesser...cleaner, but shorter data\n",
    "#p2 = [540, 30] #for a little lesser...cleaner, but shorter data\n",
    "p3= [875, 235]\n",
    "p4= [45, 235]\n",
    "src_pts = np.array([p1, p2, p3, p4], dtype=np.float32)\n",
    "offset = 100\n",
    "dst_pts = np.array([[offset, 0], [640-offset, 0], [640-offset,240], [offset, 240]], dtype=np.float32)\n",
    "M = cv2.getPerspectiveTransform(src_pts, dst_pts)\n",
    "\n",
    "\n",
    "def warp(img, M):\n",
    "    out = cv2.warpPerspective(img, M, (640, 240))\n",
    "    return out"
   ]
  },
  {
   "cell_type": "code",
   "execution_count": 566,
   "metadata": {
    "collapsed": true
   },
   "outputs": [],
   "source": [
    "\"\"\"\n",
    "Run the processing pipeline on image\n",
    "if return_at == -1, all steps are perfomed, else, steps are performed till the required number\n",
    "\"\"\"\n",
    "def processImage(image, return_at = -1):\n",
    "    \n",
    "    Y,X,C = image.shape\n",
    "    lines = None\n",
    "    \n",
    "    #undistort image\n",
    "    #dst_img = cv2.undistort(image, mtx, dist, None, mtx)\n",
    "    \n",
    "    #extract image ROI\n",
    "    #Most parts of the image do not provide useful info\n",
    "    #roi = drawROI(image, *(200, 400), *(1080, 720)) \n",
    "    ROI_x1, ROI_y1, ROI_x2, ROI_y2 = 200, 450, 1080, 720 \n",
    "    roi = get_ROI(image, ROI_x1, ROI_y1, ROI_x2, ROI_y2)\n",
    "    #plt.imshow(roi)\n",
    "    #plt.show()\n",
    "    out_image = image\n",
    "    bin_img,sv,r = binary_threshold(roi)\n",
    "    #plt.imshow(bin_img)\n",
    "    #plt.show()\n",
    "    #weighted_image = cv2.addWeighted(bin_img, 0.8, roi, 0.2, 0)\n",
    "    \n",
    "    out_image = cv2.cvtColor(image, cv2.COLOR_RGB2BGR)\n",
    "    out_image[ROI_y1:ROI_y2, ROI_x1:ROI_x2, :] = bin_img\n",
    "   \n",
    "    #out_image = drawPolygon(out_image)\n",
    "    \n",
    "    \n",
    "    warped_image = warp(bin_img, M)\n",
    "    out_image[0:240, -640:] = warped_image\n",
    "    return lines, out_image"
   ]
  },
  {
   "cell_type": "code",
   "execution_count": 567,
   "metadata": {
    "collapsed": false,
    "scrolled": true
   },
   "outputs": [
    {
     "name": "stdout",
     "output_type": "stream",
     "text": [
      "challenge_1.jpg\n",
      "%cnt 0.015875420875420876\n",
      "steps 6\n",
      "3772 237600\n",
      "test1.jpg\n",
      "%cnt 0.01999158249158249\n",
      "steps 18\n",
      "4750 237600\n",
      "test3.jpg\n",
      "%cnt 0.019886363636363636\n",
      "steps 16\n",
      "4725 237600\n",
      "challenge_3.jpg\n",
      "%cnt 0.017344276094276093\n",
      "steps 6\n",
      "4121 237600\n",
      "straight_lines2.jpg\n",
      "%cnt 0.019894781144781146\n",
      "steps 17\n",
      "4727 237600\n",
      "test2.jpg\n",
      "%cnt 0.019457070707070707\n",
      "steps 5\n",
      "4623 237600\n",
      "test4.jpg\n",
      "%cnt 0.01715909090909091\n",
      "steps 17\n",
      "4077 237600\n",
      "challenge_4.jpg\n",
      "%cnt 0.015593434343434343\n",
      "steps 5\n",
      "3705 237600\n",
      "challenge_5.jpg\n",
      "%cnt 0.01539983164983165\n",
      "steps 11\n",
      "3659 237600\n",
      "test6.jpg\n",
      "%cnt 0.01925084175084175\n",
      "steps 13\n",
      "4574 237600\n",
      "straight_lines1.jpg\n",
      "%cnt 0.018872053872053873\n",
      "steps 13\n",
      "4484 237600\n",
      "test5.jpg\n",
      "%cnt 0.019343434343434343\n",
      "steps 14\n",
      "4596 237600\n",
      "challenge_2.jpg\n",
      "%cnt 0.019482323232323233\n",
      "steps 6\n",
      "4629 237600\n",
      "Done\n"
     ]
    }
   ],
   "source": [
    "img_dir = \"test_images\"\n",
    "for img_name in os.listdir(img_dir):\n",
    "    #ONly look at image files:\n",
    "    if (img_name):# ==  \"test5.jpg\"):\n",
    "        if os.path.isfile(os.path.join(\"test_images\", img_name)):\n",
    "            print(img_name)\n",
    "            img_in_path = os.path.join(\"test_images\", img_name);\n",
    "\n",
    "            image = mpimg.imread(img_in_path)\n",
    "            lines, out_image = processImage(image, -1)\n",
    "            #mpimg.imsave(img_out_path, out_image)\n",
    "            img_name = os.path.splitext(os.path.basename(img_name))[0]\n",
    "            img_out_path = os.path.join(\"test_images\", \"output\", img_name);\n",
    "            cv2.imwrite(img_out_path+\".png\", out_image)\n",
    "        \n",
    "print(\"Done\")"
   ]
  },
  {
   "cell_type": "code",
   "execution_count": 501,
   "metadata": {
    "collapsed": false
   },
   "outputs": [
    {
     "data": {
      "text/plain": [
       "array([147, 147, 147,  72,  72,  72,  16,  16,  16,  53,  53,  53,  19,\n",
       "        19,  19,  56,  56,  56,  56,  56,  56,  56,  56,  56,  56,  56,\n",
       "        56,  56,  56,  56, 159, 159, 159, 181, 181, 181,  33,  33,  33,\n",
       "        56,  56,  56, 132, 132, 132, 193, 193, 193,  56,  56,  56, 199,\n",
       "       199, 199, 201, 201, 201, 106, 106, 106, 187, 187, 187, 151, 151,\n",
       "       151,   5,   5,   5,  14,  14,  14,  13,  13,  13, 117, 117, 117,\n",
       "        94,  94,  94,  94,  94,  94,  56,  56,  56, 182, 182, 182,   9,\n",
       "         9,   9,  48,  48,  48,  53,  53,  53,   9,   9,   9, 145, 145,\n",
       "       145, 149, 149, 149,  75,  75,  75,  42,  42,  42, 135, 135, 135,\n",
       "        68,  68,  68, 128, 128, 128, 106, 106, 106, 201, 201, 201,  80,\n",
       "        80,  80,  50,  50,  50, 250, 250, 250,  74,  74,  74,   1,   1,\n",
       "         1,  13,  13,  13,  45,  45,  45, 207, 207, 207, 162, 162, 162,\n",
       "       230, 230, 230,  54,  54,  54,  71,  71,  71, 247, 247, 247, 191,\n",
       "       191, 191, 135, 135, 135, 104, 104, 104,  76,  76,  76,   8,   8,\n",
       "         8, 104, 104, 104,  58,  58,  58, 137, 137, 137, 251, 251, 251,\n",
       "       239, 239, 239,  56,  56,  56, 246, 246, 246, 164, 164, 164,  14,\n",
       "        14,  14,  31,  31,  31,  56,  56,  56,  44,  44,  44,  52,  52,\n",
       "        52, 174, 174, 174,  56,  56,  56,  56,  56,  56], dtype=uint8)"
      ]
     },
     "execution_count": 501,
     "metadata": {},
     "output_type": "execute_result"
    }
   ],
   "source": [
    "out_image[(out_image>0) & (out_image<255)]"
   ]
  },
  {
   "cell_type": "code",
   "execution_count": 453,
   "metadata": {
    "collapsed": false,
    "scrolled": true
   },
   "outputs": [],
   "source": [
    "# Import everything needed to edit/save/watch video clips\n",
    "import imageio.plugins\n",
    "imageio.plugins.ffmpeg.download()\n",
    "import moviepy.editor as mp\n",
    "from moviepy.editor import VideoFileClip\n",
    "from IPython.display import HTML\n",
    "\n"
   ]
  },
  {
   "cell_type": "code",
   "execution_count": 454,
   "metadata": {
    "collapsed": false
   },
   "outputs": [],
   "source": [
    "def process_image(image, return_at=-1):#(return_at, image):\n",
    "    # NOTE: The output you return should be a color image (3 channel) for processing video below\n",
    "    # TODO: put your pipeline here,\n",
    "    # you should return the final output (image with lines are drawn on lanes)\n",
    "    _, result = processImage(image, return_at)\n",
    "    return result"
   ]
  },
  {
   "cell_type": "code",
   "execution_count": null,
   "metadata": {
    "collapsed": true
   },
   "outputs": [],
   "source": []
  },
  {
   "cell_type": "code",
   "execution_count": 455,
   "metadata": {
    "collapsed": false
   },
   "outputs": [
    {
     "name": "stdout",
     "output_type": "stream",
     "text": [
      "[MoviePy] >>>> Building video project_out.mp4\n",
      "[MoviePy] Writing video project_out.mp4\n"
     ]
    },
    {
     "name": "stderr",
     "output_type": "stream",
     "text": [
      "100%|█████████▉| 1260/1261 [00:53<00:00, 23.54it/s]\n"
     ]
    },
    {
     "name": "stdout",
     "output_type": "stream",
     "text": [
      "[MoviePy] Done.\n",
      "[MoviePy] >>>> Video ready: project_out.mp4 \n",
      "\n",
      "CPU times: user 5min 51s, sys: 3 s, total: 5min 54s\n",
      "Wall time: 54.1 s\n"
     ]
    }
   ],
   "source": [
    "import tqdm\n",
    "white_output = 'project_out.mp4'\n",
    "clip1 = VideoFileClip(\"project_video.mp4\")\n",
    "white_clip = clip1.fl_image(process_image) #NOTE: this function expects color images!!\n",
    "%time white_clip.write_videofile(white_output, audio=False)"
   ]
  },
  {
   "cell_type": "code",
   "execution_count": 456,
   "metadata": {
    "collapsed": false,
    "scrolled": true
   },
   "outputs": [
    {
     "name": "stdout",
     "output_type": "stream",
     "text": [
      "[MoviePy] >>>> Building video challenge_out.mp4\n",
      "[MoviePy] Writing video challenge_out.mp4\n"
     ]
    },
    {
     "name": "stderr",
     "output_type": "stream",
     "text": [
      "100%|██████████| 485/485 [00:20<00:00, 23.11it/s]\n"
     ]
    },
    {
     "name": "stdout",
     "output_type": "stream",
     "text": [
      "[MoviePy] Done.\n",
      "[MoviePy] >>>> Video ready: challenge_out.mp4 \n",
      "\n",
      "CPU times: user 2min 17s, sys: 1.25 s, total: 2min 18s\n",
      "Wall time: 21.5 s\n"
     ]
    }
   ],
   "source": [
    "yellow_output = 'challenge_out.mp4'\n",
    "clip2 = VideoFileClip('challenge_video.mp4')\n",
    "yellow_clip = clip2.fl_image(process_image)\n",
    "%time yellow_clip.write_videofile(yellow_output, audio=False)"
   ]
  },
  {
   "cell_type": "code",
   "execution_count": 457,
   "metadata": {
    "collapsed": false
   },
   "outputs": [
    {
     "name": "stdout",
     "output_type": "stream",
     "text": [
      "[MoviePy] >>>> Building video harder_out.mp4\n",
      "[MoviePy] Writing video harder_out.mp4\n"
     ]
    },
    {
     "name": "stderr",
     "output_type": "stream",
     "text": [
      "100%|█████████▉| 1199/1200 [01:02<00:00, 19.19it/s]\n"
     ]
    },
    {
     "name": "stdout",
     "output_type": "stream",
     "text": [
      "[MoviePy] Done.\n",
      "[MoviePy] >>>> Video ready: harder_out.mp4 \n",
      "\n",
      "CPU times: user 6min 46s, sys: 3.07 s, total: 6min 49s\n",
      "Wall time: 1min 3s\n"
     ]
    }
   ],
   "source": [
    "yellow_output = 'harder_out.mp4'\n",
    "clip2 = VideoFileClip('harder_challenge_video.mp4')\n",
    "yellow_clip = clip2.fl_image(process_image)\n",
    "%time yellow_clip.write_videofile(yellow_output, audio=False)"
   ]
  },
  {
   "cell_type": "code",
   "execution_count": null,
   "metadata": {
    "collapsed": true
   },
   "outputs": [],
   "source": []
  },
  {
   "cell_type": "code",
   "execution_count": null,
   "metadata": {
    "collapsed": true
   },
   "outputs": [],
   "source": []
  }
 ],
 "metadata": {
  "anaconda-cloud": {},
  "kernelspec": {
   "display_name": "Python [conda root]",
   "language": "python",
   "name": "conda-root-py"
  },
  "language_info": {
   "codemirror_mode": {
    "name": "ipython",
    "version": 3
   },
   "file_extension": ".py",
   "mimetype": "text/x-python",
   "name": "python",
   "nbconvert_exporter": "python",
   "pygments_lexer": "ipython3",
   "version": "3.5.2"
  }
 },
 "nbformat": 4,
 "nbformat_minor": 0
}
