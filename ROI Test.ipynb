{
 "cells": [
  {
   "cell_type": "code",
   "execution_count": 1,
   "metadata": {
    "collapsed": false
   },
   "outputs": [],
   "source": [
    "#Ensure we are running Python 3\n",
    "import sys\n",
    "pyinfo = sys.version_info\n",
    "assert (pyinfo.major == 3), \"Python 3 required. The version you are using is: {}\".format(pyinfo) "
   ]
  },
  {
   "cell_type": "code",
   "execution_count": 2,
   "metadata": {
    "collapsed": false
   },
   "outputs": [],
   "source": [
    "#importing some useful packages\n",
    "import matplotlib.pyplot as plt\n",
    "import matplotlib.image as mpimg\n",
    "import numpy as np\n",
    "import cv2\n",
    "import os\n",
    "import pickle\n",
    "%matplotlib inline"
   ]
  },
  {
   "cell_type": "markdown",
   "metadata": {},
   "source": [
    "## Test on Images\n",
    "\n",
    "Now you should build your pipeline to work on the images in the directory \"test_images\"  \n",
    "**You should make sure your pipeline works well on these images before you try the videos.**"
   ]
  },
  {
   "cell_type": "markdown",
   "metadata": {},
   "source": [
    "run your solution on all test_images and make copies into the test_images directory)."
   ]
  },
  {
   "cell_type": "code",
   "execution_count": null,
   "metadata": {
    "collapsed": false
   },
   "outputs": [],
   "source": [
    "#Perspective warping...These values work for the test image sequences\n",
    "#Warping from the ROI to Bird Eye View. Creating a small image coz it saves time. large image probably\n",
    "#doesn't give any thing extra\n",
    "p1 = [402, 10]#for full ROI warp \n",
    "p2 = [530, 10]#for full ROI warp\n",
    "#p1 = [350, 30] #for a little lesser...cleaner, but shorter data\n",
    "#p2 = [540, 30] #for a little lesser...cleaner, but shorter data\n",
    "p3= [930, 270]\n",
    "p4= [15, 270]\n",
    "\n",
    "src_pts = np.array([p1, p2, p3, p4], dtype=np.float32)\n",
    "offset = 100\n",
    "dst_pts = np.array([[offset, 0], [640-offset, 0], [640-offset,240], [offset, 240]], dtype=np.float32)\n",
    "M = cv2.getPerspectiveTransform(src_pts, dst_pts)\n",
    "\n",
    "\n",
    "def warp(img, M):\n",
    "    out = cv2.warpPerspective(img, M, (640, 480), flags=cv2.INTER_LINEAR)\n",
    "    return out"
   ]
  },
  {
   "cell_type": "code",
   "execution_count": null,
   "metadata": {
    "collapsed": false
   },
   "outputs": [],
   "source": [
    "def get_calibration(calib_name):\n",
    "    calibration = pickle.load(open(calib_name, \"rb\"))\n",
    "    return calibration\n",
    "camera_calibration_dir = os.path.join(os.getcwd(),\"camera_cal\")\n",
    "calib_name = os.path.join(camera_calibration_dir,\"calibration_pickle.p\")\n",
    "calibration = get_calibration(calib_name)\n",
    "print(calibration)\n",
    "mtx = calibration['mtx']\n",
    "dist = calibration['dist']"
   ]
  },
  {
   "cell_type": "code",
   "execution_count": null,
   "metadata": {
    "collapsed": false
   },
   "outputs": [],
   "source": [
    "\"\"\"\n",
    "Run the processing pipeline on image\n",
    "if return_at == -1, all steps are perfomed, else, steps are performed till the required number\n",
    "\"\"\"\n",
    "from AdvancedLaneDetection.utilities import *\n",
    "import AdvancedLaneDetection.BinaryThreshold as bt\n",
    "\n",
    "R_Range = bt.Threshold(140, 250, 5)\n",
    "V_Range = bt.Threshold(140, 240, 5)\n",
    "\n",
    "def processImage(image, return_at = -1):\n",
    "    \n",
    "    Y,X,C = image.shape\n",
    "    lines = None\n",
    "    \n",
    "    #undistort image\n",
    "    image = cv2.undistort(image, mtx, dist, None, mtx)\n",
    "    \n",
    "    #extract image ROI\n",
    "    #Most parts of the image do not provide useful info\n",
    "    #roi = drawROI(image, *(200, 400), *(1080, 720)) \n",
    "    ROI_x1, ROI_y1, ROI_x2, ROI_y2 = 175, 450, 1105, 720 \n",
    "    roi = get_ROI(image, ROI_x1, ROI_y1, ROI_x2, ROI_y2)\n",
    "    plt.imshow(roi)\n",
    "    #plt.show()\n",
    "    \n",
    "    bin_img,sv,r = bt.binary_threshold(roi, R_Range, V_Range)\n",
    "    #plt.imshow(bin_img)\n",
    "    #plt.show()\n",
    "    #weighted_image = cv2.addWeighted(bin_img, 0.8, roi, 0.2, 0)\n",
    "    p1_ = [594,450]\n",
    "    p2_ = [687,450]\n",
    "    p3_ = [1118,720]\n",
    "    p4_ = [193,720]\n",
    "    out_image = cv2.cvtColor(image, cv2.COLOR_RGB2BGR)\n",
    "    #polygon = drawPolygon(out_image, p1_, p2_, p3_, p4_)\n",
    "    #out_image[ROI_y1:ROI_y2, ROI_x1:ROI_x2, :] = bin_img\n",
    "    #bin_img = drawPolygon(bin_img, p1, p2, p3, p4)\n",
    "    \n",
    "    warped_image = warpImage(bin_img, M, (640, 240))\n",
    "    out_image[0:240, -640:] = warped_image\n",
    "    return lines, out_image"
   ]
  },
  {
   "cell_type": "code",
   "execution_count": null,
   "metadata": {
    "collapsed": false,
    "scrolled": true
   },
   "outputs": [],
   "source": [
    "img_dir = \"test_images\"\n",
    "for img_name in os.listdir(img_dir):\n",
    "    #ONly look at image files:\n",
    "    if (img_name):# ==  \"test5.jpg\"):\n",
    "        if os.path.isfile(os.path.join(\"test_images\", img_name)):\n",
    "            print(img_name)\n",
    "            img_in_path = os.path.join(\"test_images\", img_name);\n",
    "\n",
    "            image = mpimg.imread(img_in_path)\n",
    "            lines, out_image = processImage(image, -1)\n",
    "            #mpimg.imsave(img_out_path, out_image)\n",
    "            img_name = os.path.splitext(os.path.basename(img_name))[0]\n",
    "            img_out_path = os.path.join(\"test_images\", \"output\", img_name);\n",
    "            cv2.imwrite(img_out_path+\".png\", out_image)\n",
    "        \n",
    "print(\"Done\")"
   ]
  },
  {
   "cell_type": "code",
   "execution_count": null,
   "metadata": {
    "collapsed": true
   },
   "outputs": [],
   "source": [
    "import imageio.plugins\n",
    "import moviepy.editor as mp"
   ]
  },
  {
   "cell_type": "code",
   "execution_count": null,
   "metadata": {
    "collapsed": false,
    "scrolled": true
   },
   "outputs": [],
   "source": [
    "# Import everything needed to edit/save/watch video clips\n",
    "import imageio.plugins\n",
    "import moviepy.editor as mp\n",
    "from moviepy.editor import VideoFileClip\n",
    "from IPython.display import HTML\n",
    "\n"
   ]
  },
  {
   "cell_type": "code",
   "execution_count": null,
   "metadata": {
    "collapsed": false
   },
   "outputs": [],
   "source": [
    "def process_image(image, return_at=-1):#(return_at, image):\n",
    "    # NOTE: The output you return should be a color image (3 channel) for processing video below\n",
    "    # TODO: put your pipeline here,\n",
    "    # you should return the final output (image with lines are drawn on lanes)\n",
    "    _, result = processImage(image, return_at)\n",
    "    return result"
   ]
  },
  {
   "cell_type": "code",
   "execution_count": null,
   "metadata": {
    "collapsed": false
   },
   "outputs": [],
   "source": [
    "white_output = 'project_out.mp4'\n",
    "clip1 = VideoFileClip(\"project_video.mp4\")\n",
    "white_clip = clip1.fl_image(process_image) #NOTE: this function expects color images!!\n",
    "%time white_clip.write_videofile(white_output, audio=False)"
   ]
  },
  {
   "cell_type": "code",
   "execution_count": null,
   "metadata": {
    "collapsed": false,
    "scrolled": true
   },
   "outputs": [],
   "source": [
    "yellow_output = 'challenge_out.mp4'\n",
    "clip2 = VideoFileClip('challenge_video.mp4')\n",
    "yellow_clip = clip2.fl_image(process_image)\n",
    "%time yellow_clip.write_videofile(yellow_output, audio=False)"
   ]
  },
  {
   "cell_type": "code",
   "execution_count": null,
   "metadata": {
    "collapsed": false
   },
   "outputs": [],
   "source": [
    "yellow_output = 'harder_out.mp4'\n",
    "clip2 = VideoFileClip('harder_challenge_video.mp4')\n",
    "yellow_clip = clip2.fl_image(process_image)\n",
    "%time yellow_clip.write_videofile(yellow_output, audio=False)"
   ]
  },
  {
   "cell_type": "code",
   "execution_count": null,
   "metadata": {
    "collapsed": false
   },
   "outputs": [],
   "source": [
    "a = 255 * np.ones((10,10, 3), dtype=np.uint8)\n",
    "a[5:10, 3:10, :] = 0\n",
    "b = 255 * np.ones((10,10, 3), dtype=np.uint8)"
   ]
  },
  {
   "cell_type": "code",
   "execution_count": null,
   "metadata": {
    "collapsed": false
   },
   "outputs": [],
   "source": [
    "c = cv2.bitwise_and(a, b)"
   ]
  },
  {
   "cell_type": "code",
   "execution_count": null,
   "metadata": {
    "collapsed": false
   },
   "outputs": [],
   "source": [
    "d_c= cv2.cvtColor(c, cv2.COLOR_BGR2RGB)\n",
    "plt.imshow(d_c, cmap=\"gray\")"
   ]
  },
  {
   "cell_type": "code",
   "execution_count": null,
   "metadata": {
    "collapsed": false
   },
   "outputs": [],
   "source": [
    "c"
   ]
  },
  {
   "cell_type": "code",
   "execution_count": null,
   "metadata": {
    "collapsed": false
   },
   "outputs": [],
   "source": [
    "c.shape"
   ]
  },
  {
   "cell_type": "code",
   "execution_count": null,
   "metadata": {
    "collapsed": false
   },
   "outputs": [],
   "source": [
    "import cv2\n",
    "vidcap = cv2.VideoCapture('project_video.mp4')\n",
    "success,image = vidcap.read()\n",
    "\n",
    "success,image = vidcap.read()\n",
    "print(success)\n",
    "count = 0\n",
    "success = True\n",
    "while success and count < 5:\n",
    "  success,image = vidcap.read()\n",
    "  print('Read a new frame: ', success)\n",
    "  cv2.imwrite(\"frame%d.jpg\" % count, image)     # save frame as JPEG file\n",
    "  count += 1"
   ]
  },
  {
   "cell_type": "code",
   "execution_count": null,
   "metadata": {
    "collapsed": false
   },
   "outputs": [],
   "source": [
    "clip1 = VideoFileClip(\"project_video.mp4\")"
   ]
  },
  {
   "cell_type": "code",
   "execution_count": null,
   "metadata": {
    "collapsed": false
   },
   "outputs": [],
   "source": [
    "vidcap.get()"
   ]
  },
  {
   "cell_type": "code",
   "execution_count": null,
   "metadata": {
    "collapsed": true
   },
   "outputs": [],
   "source": []
  }
 ],
 "metadata": {
  "anaconda-cloud": {},
  "kernelspec": {
   "display_name": "Python [conda root]",
   "language": "python",
   "name": "conda-root-py"
  },
  "language_info": {
   "codemirror_mode": {
    "name": "ipython",
    "version": 3
   },
   "file_extension": ".py",
   "mimetype": "text/x-python",
   "name": "python",
   "nbconvert_exporter": "python",
   "pygments_lexer": "ipython3",
   "version": "3.5.2"
  }
 },
 "nbformat": 4,
 "nbformat_minor": 0
}
